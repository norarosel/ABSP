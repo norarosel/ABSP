{
 "cells": [
  {
   "cell_type": "code",
   "execution_count": null,
   "id": "fc8edf95",
   "metadata": {},
   "outputs": [],
   "source": [
    "%matplotlib widget\n",
    "\n",
    "import pandas as pd\n",
    "import numpy as np\n",
    "import matplotlib\n",
    "import matplotlib.pyplot as plt\n",
    "from SSA_Decomposition import ssa_decomposition\n",
    "\n",
    "font = {'size': 12}\n",
    "matplotlib.rc('font', **font)"
   ]
  },
  {
   "cell_type": "code",
   "execution_count": null,
   "id": "f3fe8f10",
   "metadata": {},
   "outputs": [],
   "source": [
    "# The PPG signal (sampled at 25Hz)\n",
    "data_csv = pd.read_csv('ppg.csv')\n",
    "fs = 25\n",
    "# Extract ppg and acceleromter signals between 200s and 400s\n",
    "ppg = data_csv['ppg'][200*fs:400*fs].to_numpy()\n",
    "acc_x = data_csv['acc_x'][200*fs:400*fs].to_numpy()\n",
    "acc_y = data_csv['acc_y'][200*fs:400*fs].to_numpy()\n",
    "acc_z = data_csv['acc_z'][200*fs:400*fs].to_numpy()\n",
    "acc_norm = np.sqrt(acc_x*acc_x+acc_y*acc_y+acc_z*acc_z)\n",
    "\n",
    "time = np.arange(0, len(ppg)/fs, 1/fs)"
   ]
  },
  {
   "cell_type": "code",
   "execution_count": null,
   "id": "6bd16e6d",
   "metadata": {},
   "outputs": [],
   "source": [
    "# Plot data\n",
    "fig = plt.figure()\n",
    "plt.plot(time, ppg)\n",
    "plt.title('PPG signal')\n",
    "plt.ylabel('PPG')\n",
    "plt.xlabel('Time (s)')"
   ]
  },
  {
   "cell_type": "code",
   "execution_count": null,
   "id": "8a6369d1",
   "metadata": {},
   "outputs": [],
   "source": [
    "# First SSA decomposition to extract long term drift\n",
    "# Find the length L in samples, so that SVD first component corresponds to\n",
    "# long term drift signal.\n",
    "Y_1, fc_1, sig_1 = ssa_decomposition(ppg, L, fs, 2)"
   ]
  },
  {
   "cell_type": "code",
   "execution_count": null,
   "id": "f9a55841",
   "metadata": {},
   "outputs": [],
   "source": [
    "# Plot signal and its baseline \n",
    "fig = plt.figure()\n",
    "plt.plot(time, ppg)\n",
    "plt.plot(time, Y_1[:, 0].flatten(), label='baseline')\n",
    "plt.ylabel('PPG')\n",
    "plt.xlabel('Time (s)')"
   ]
  },
  {
   "cell_type": "code",
   "execution_count": null,
   "id": "e5175de4",
   "metadata": {},
   "outputs": [],
   "source": [
    "# First SSA decomposition to extract long term drift from accelerometer\n",
    "Y_acc1, fc_acc1, sig_acc1 = ssa_decomposition(acc_norm, L, fs, 2)"
   ]
  },
  {
   "cell_type": "code",
   "execution_count": null,
   "id": "7d670b1d",
   "metadata": {},
   "outputs": [],
   "source": [
    "fig = plt.figure()\n",
    "plt.plot(time, acc_norm)\n",
    "plt.plot(time, Y_acc1[:, 0].flatten(), label='baseline')\n",
    "plt.ylabel('ACC')\n",
    "plt.xlabel('Time (s)')"
   ]
  },
  {
   "cell_type": "code",
   "execution_count": null,
   "id": "425cf067",
   "metadata": {},
   "outputs": [],
   "source": [
    "# Remove First component\n",
    "filt_x = ppg - Y_1[:, 0]\n",
    "# Apply SSA on signal without baseline\n",
    "# Set L to identify and remove respiration component\n",
    "Y_2, fc_2, sig_2 = ssa_decomposition(filt_x, L, fs, 2)"
   ]
  },
  {
   "cell_type": "code",
   "execution_count": null,
   "id": "ef1a545d",
   "metadata": {},
   "outputs": [],
   "source": [
    "# Find components characterizing respiration\n",
    "resp_components = [0, 1]\n",
    "fig = plt.figure()\n",
    "plt.plot(time, filt_x)\n",
    "plt.plot(time, np.sum(Y_2[:, resp_components], axis=1), label='Respiration')\n",
    "plt.ylabel('PPG')\n",
    "plt.xlabel('Time (s)')"
   ]
  },
  {
   "cell_type": "code",
   "execution_count": null,
   "id": "1c2b4291",
   "metadata": {},
   "outputs": [],
   "source": [
    "# Remove First component\n",
    "filt_acc = acc_norm - Y_acc1[:, 0]\n",
    "# Apply SSA on accelerometer norm without baseline\n",
    "Y_acc2, fc_acc2, sig_acc2 = ssa_decomposition(filt_acc, L, fs, 2)"
   ]
  },
  {
   "cell_type": "code",
   "execution_count": null,
   "id": "38910a62",
   "metadata": {},
   "outputs": [],
   "source": [
    "# Find components characterizing respiration\n",
    "cadence_components = [0, 1]\n",
    "fig = plt.figure()\n",
    "plt.plot(time, filt_acc)\n",
    "plt.plot(time, np.sum(Y_acc2[:, cadence_components], axis=1), label='Cadence')\n",
    "plt.ylabel('ACC')\n",
    "plt.xlabel('Time (s)')"
   ]
  },
  {
   "cell_type": "code",
   "execution_count": null,
   "id": "7a01e5b5",
   "metadata": {},
   "outputs": [],
   "source": [
    "# Remove respiration component(s)\n",
    "filt_x2 = filt_x - np.sum(Y_2[:, resp_components], 1)\n",
    "fig = plt.figure()\n",
    "plt.plot(time, filt_x2)\n",
    "plt.ylabel('PPG')\n",
    "plt.xlabel('Time (s)')"
   ]
  },
  {
   "cell_type": "code",
   "execution_count": null,
   "id": "9bcf8a59",
   "metadata": {},
   "outputs": [],
   "source": [
    "# Apply SSA on signal without baseline, nor respiration\n",
    "# Set L to identify running cadence and heart rate\n",
    "Y_3, fc_3, sig_3 = ssa_decomposition(filt_x2, L, fs, 2)"
   ]
  },
  {
   "cell_type": "code",
   "execution_count": null,
   "id": "0714688a",
   "metadata": {},
   "outputs": [],
   "source": []
  }
 ],
 "metadata": {
  "kernelspec": {
   "display_name": "Python3",
   "language": "python",
   "name": "python3"
  },
  "language_info": {
   "codemirror_mode": {
    "name": "ipython",
    "version": 3
   },
   "file_extension": ".py",
   "mimetype": "text/x-python",
   "name": "python",
   "nbconvert_exporter": "python",
   "pygments_lexer": "ipython3",
   "version": "3.11.5"
  }
 },
 "nbformat": 4,
 "nbformat_minor": 5
}
