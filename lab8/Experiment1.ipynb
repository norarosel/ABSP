{
 "cells": [
  {
   "cell_type": "code",
   "execution_count": null,
   "id": "e4aafb5b",
   "metadata": {},
   "outputs": [],
   "source": [
    "import numpy as np\n",
    "from numpy import genfromtxt\n",
    "\n",
    "# Load signal\n",
    "data = genfromtxt('ECG.csv', delimiter=',')\n",
    "\n",
    "# Perform SVD\n",
    "U1, S1, V1 = np.linalg.svd(data[:, 0:5], full_matrices=False)\n",
    "print(S1)\n",
    "\n",
    "# Perform SVD\n",
    "U2, S2, V2 = np.linalg.svd(data[:, 6:11], full_matrices=False)\n",
    "print(S2)\n"
   ]
  },
  {
   "cell_type": "code",
   "execution_count": null,
   "id": "7ac74ff8",
   "metadata": {},
   "outputs": [],
   "source": [
    "# Add here the code to compute the effective rank"
   ]
  }
 ],
 "metadata": {
  "kernelspec": {
   "display_name": "Python3",
   "language": "python",
   "name": "python3"
  },
  "language_info": {
   "codemirror_mode": {
    "name": "ipython",
    "version": 3
   },
   "file_extension": ".py",
   "mimetype": "text/x-python",
   "name": "python",
   "nbconvert_exporter": "python",
   "pygments_lexer": "ipython3",
   "version": "3.11.5"
  }
 },
 "nbformat": 4,
 "nbformat_minor": 5
}
